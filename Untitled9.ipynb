{
  "nbformat": 4,
  "nbformat_minor": 0,
  "metadata": {
    "colab": {
      "name": "Untitled9.ipynb",
      "provenance": [],
      "mount_file_id": "1AqGrHoMIQLV4ma9cNdfTJ2_etMP_hatw",
      "authorship_tag": "ABX9TyMtAS7HutCGoC8DLlQ3TVum",
      "include_colab_link": true
    },
    "kernelspec": {
      "name": "python3",
      "display_name": "Python 3"
    }
  },
  "cells": [
    {
      "cell_type": "markdown",
      "metadata": {
        "id": "view-in-github",
        "colab_type": "text"
      },
      "source": [
        "<a href=\"https://colab.research.google.com/github/aayushkadesign/DNA-algorithms/blob/main/Untitled9.ipynb\" target=\"_parent\"><img src=\"https://colab.research.google.com/assets/colab-badge.svg\" alt=\"Open In Colab\"/></a>"
      ]
    },
    {
      "cell_type": "code",
      "metadata": {
        "id": "XtLcXmFAA_iz",
        "colab": {
          "base_uri": "https://localhost:8080/",
          "height": 34
        },
        "outputId": "205c46fa-6902-4491-c7b4-ed37eababe97"
      },
      "source": [
        "def longestcommonprefix(s1,s2):\n",
        "  i=0\n",
        "  while i< len(s1) and len(s2) and s1[i]==s2[i]:\n",
        "    i+=1\n",
        "  return s1[:i]\n",
        "q=longestcommonprefix('ACCTASDF','ACCTADEJGBTU')\n",
        "print(q)\n",
        "\n"
      ],
      "execution_count": null,
      "outputs": [
        {
          "output_type": "stream",
          "text": [
            "ACCTA\n"
          ],
          "name": "stdout"
        }
      ]
    },
    {
      "cell_type": "code",
      "metadata": {
        "id": "qsf6pFBwuRWN",
        "colab": {
          "base_uri": "https://localhost:8080/",
          "height": 34
        },
        "outputId": "f8c13fef-28a6-4f90-f16e-8e1e6b40c2c7"
      },
      "source": [
        "'/content/drive/My Drive/lambda_virus.fa'"
      ],
      "execution_count": null,
      "outputs": [
        {
          "output_type": "stream",
          "text": [
            "Mounted at /content/drive/\n"
          ],
          "name": "stdout"
        }
      ]
    },
    {
      "cell_type": "code",
      "metadata": {
        "id": "Q1c6LA_ryy6P"
      },
      "source": [
        "import pandas as pd"
      ],
      "execution_count": null,
      "outputs": []
    },
    {
      "cell_type": "code",
      "metadata": {
        "id": "jbG2epjPyzYW",
        "colab": {
          "base_uri": "https://localhost:8080/",
          "height": 129
        },
        "outputId": "3219978f-4490-4f37-d65a-e8ff8013fcc4"
      },
      "source": [
        "\n",
        "import pandas as pd #ilea='\n",
        "def readGenome(filename):\n",
        "  genome=' '\n",
        "  with open(filename,'r') as f:\n",
        "    for line in f:\n",
        "      if not line[0]=='>':\n",
        "        genome+=line.rstrip()\n",
        "  return readGenome\n",
        "genome=readGenome(lambda_virus.fa)\n",
        "print(genome)"
      ],
      "execution_count": null,
      "outputs": [
        {
          "output_type": "error",
          "ename": "SyntaxError",
          "evalue": "ignored",
          "traceback": [
            "\u001b[0;36m  File \u001b[0;32m\"<ipython-input-37-8c5e7d5bc0ae>\"\u001b[0;36m, line \u001b[0;32m2\u001b[0m\n\u001b[0;31m    files.import('lambda_virus.fa')\u001b[0m\n\u001b[0m               ^\u001b[0m\n\u001b[0;31mSyntaxError\u001b[0m\u001b[0;31m:\u001b[0m invalid syntax\n"
          ]
        }
      ]
    },
    {
      "cell_type": "code",
      "metadata": {
        "id": "YrhF8e3II754"
      },
      "source": [
        ""
      ],
      "execution_count": null,
      "outputs": []
    },
    {
      "cell_type": "code",
      "metadata": {
        "id": "MR0X-ritI-Gy"
      },
      "source": [
        "a=10\n",
        "b=20\n",
        "print(a+b)"
      ],
      "execution_count": null,
      "outputs": []
    },
    {
      "cell_type": "code",
      "metadata": {
        "id": "-SHHqY3IKS0G",
        "colab": {
          "base_uri": "https://localhost:8080/",
          "height": 214
        },
        "outputId": "4c40e972-69ea-4a7e-a6e5-d4ca2b2c681c"
      },
      "source": [
        "counts={'A':0,'C':0,'G':0,'T':0}\n",
        "for base in genome:\n",
        "  counts[base] +=1\n",
        "print(counts)"
      ],
      "execution_count": null,
      "outputs": [
        {
          "output_type": "error",
          "ename": "KeyError",
          "evalue": "ignored",
          "traceback": [
            "\u001b[0;31m---------------------------------------------------------------------------\u001b[0m",
            "\u001b[0;31mKeyError\u001b[0m                                  Traceback (most recent call last)",
            "\u001b[0;32m<ipython-input-54-029fe06f4293>\u001b[0m in \u001b[0;36m<module>\u001b[0;34m()\u001b[0m\n\u001b[1;32m      1\u001b[0m \u001b[0mcounts\u001b[0m\u001b[0;34m=\u001b[0m\u001b[0;34m{\u001b[0m\u001b[0;34m'A'\u001b[0m\u001b[0;34m:\u001b[0m\u001b[0;36m0\u001b[0m\u001b[0;34m,\u001b[0m\u001b[0;34m'C'\u001b[0m\u001b[0;34m:\u001b[0m\u001b[0;36m0\u001b[0m\u001b[0;34m,\u001b[0m\u001b[0;34m'G'\u001b[0m\u001b[0;34m:\u001b[0m\u001b[0;36m0\u001b[0m\u001b[0;34m,\u001b[0m\u001b[0;34m'T'\u001b[0m\u001b[0;34m:\u001b[0m\u001b[0;36m0\u001b[0m\u001b[0;34m}\u001b[0m\u001b[0;34m\u001b[0m\u001b[0;34m\u001b[0m\u001b[0m\n\u001b[1;32m      2\u001b[0m \u001b[0;32mfor\u001b[0m \u001b[0mbase\u001b[0m \u001b[0;32min\u001b[0m \u001b[0mgenome\u001b[0m\u001b[0;34m:\u001b[0m\u001b[0;34m\u001b[0m\u001b[0;34m\u001b[0m\u001b[0m\n\u001b[0;32m----> 3\u001b[0;31m     \u001b[0mcounts\u001b[0m\u001b[0;34m[\u001b[0m\u001b[0mbase\u001b[0m\u001b[0;34m]\u001b[0m \u001b[0;34m+=\u001b[0m\u001b[0;36m1\u001b[0m\u001b[0;34m\u001b[0m\u001b[0;34m\u001b[0m\u001b[0m\n\u001b[0m\u001b[1;32m      4\u001b[0m \u001b[0mprint\u001b[0m\u001b[0;34m(\u001b[0m\u001b[0mcounts\u001b[0m\u001b[0;34m)\u001b[0m\u001b[0;34m\u001b[0m\u001b[0;34m\u001b[0m\u001b[0m\n",
            "\u001b[0;31mKeyError\u001b[0m: ' '"
          ]
        }
      ]
    },
    {
      "cell_type": "code",
      "metadata": {
        "id": "ys8AUdAjEAFU",
        "colab": {
          "base_uri": "https://localhost:8080/",
          "height": 34
        },
        "outputId": "fd4e124a-8d63-4bd8-bf22-9f9664bfd9b6"
      },
      "source": [
        "def match(s1,s2):\n",
        "  if not len(s1)==len(s2):\n",
        "    return False\n",
        "  for i in range(len(s1)):\n",
        "    if not s1[i]==s2[i]:\n",
        "      return False\n",
        "  return True\n",
        "print(match(\"ATGCT\",\"ATGCT\"))\n",
        "      "
      ],
      "execution_count": null,
      "outputs": [
        {
          "output_type": "stream",
          "text": [
            "True\n"
          ],
          "name": "stdout"
        }
      ]
    },
    {
      "cell_type": "markdown",
      "metadata": {
        "id": "Do_owvy_GLmn"
      },
      "source": [
        "complement={'A':'T','C':'G','G':'C','T':\"A\"}\n",
        "complement['C']\n"
      ]
    },
    {
      "cell_type": "code",
      "metadata": {
        "id": "nUEzzMKUGoqq",
        "colab": {
          "base_uri": "https://localhost:8080/",
          "height": 34
        },
        "outputId": "f5bce6db-1bcb-4d5a-f42e-66617d7d1feb"
      },
      "source": [
        "def reverseComplement(s): \n",
        "  complement={'A':'T','C':'G','G':'C','T':\"A\"} \n",
        "  t=''\n",
        "  for base in s:\n",
        "    t=complement[base]+t\n",
        "  return t\n",
        "print(reverseComplement('ACCTGCGGCTT'))\n",
        "\n",
        "\n",
        "\n",
        "\n"
      ],
      "execution_count": null,
      "outputs": [
        {
          "output_type": "stream",
          "text": [
            "AAGCCGCAGGT\n"
          ],
          "name": "stdout"
        }
      ]
    }
  ]
}